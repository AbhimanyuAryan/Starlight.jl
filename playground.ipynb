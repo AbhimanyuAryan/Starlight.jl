{
 "cells": [
  {
   "cell_type": "code",
   "execution_count": 14,
   "metadata": {},
   "outputs": [],
   "source": [
    "using starlight"
   ]
  },
  {
   "cell_type": "code",
   "execution_count": 15,
   "metadata": {},
   "outputs": [
    {
     "data": {
      "image/png": "[encoded data removed]",
      "text/plain": [
       "20×10 Array{RGB{N0f8},2} with eltype RGB{Normed{UInt8,8}}:\n",
       " RGB{N0f8}(0.0,0.0,0.0)  RGB{N0f8}(0.0,0.0,0.0)  …  RGB{N0f8}(0.0,0.0,0.0)\n",
       " RGB{N0f8}(0.0,0.0,0.0)  RGB{N0f8}(0.0,0.0,0.0)     RGB{N0f8}(0.0,0.0,0.0)\n",
       " RGB{N0f8}(0.0,0.0,0.0)  RGB{N0f8}(0.0,0.0,0.0)     RGB{N0f8}(0.0,0.0,0.0)\n",
       " RGB{N0f8}(0.0,0.0,0.0)  RGB{N0f8}(0.0,0.0,0.0)     RGB{N0f8}(0.0,0.0,0.0)\n",
       " RGB{N0f8}(0.0,0.0,0.0)  RGB{N0f8}(0.0,0.0,0.0)     RGB{N0f8}(0.0,0.0,0.0)\n",
       " RGB{N0f8}(0.0,0.0,0.0)  RGB{N0f8}(0.0,0.0,0.0)  …  RGB{N0f8}(0.0,0.0,0.0)\n",
       " RGB{N0f8}(0.0,0.0,0.0)  RGB{N0f8}(0.0,0.0,0.0)     RGB{N0f8}(0.0,0.0,0.0)\n",
       " RGB{N0f8}(0.0,0.0,0.0)  RGB{N0f8}(0.0,0.0,0.0)     RGB{N0f8}(0.0,0.0,0.0)\n",
       " RGB{N0f8}(0.0,0.0,0.0)  RGB{N0f8}(0.0,0.0,0.0)     RGB{N0f8}(0.0,0.0,0.0)\n",
       " RGB{N0f8}(0.0,0.0,0.0)  RGB{N0f8}(0.0,0.0,0.0)     RGB{N0f8}(0.0,0.0,0.0)\n",
       " RGB{N0f8}(0.0,0.0,0.0)  RGB{N0f8}(0.0,0.0,0.0)  …  RGB{N0f8}(0.0,0.0,0.0)\n",
       " RGB{N0f8}(0.0,0.0,0.0)  RGB{N0f8}(0.0,0.0,0.0)     RGB{N0f8}(0.0,0.0,0.0)\n",
       " RGB{N0f8}(0.0,0.0,0.0)  RGB{N0f8}(0.0,0.0,0.0)     RGB{N0f8}(0.0,0.0,0.0)\n",
       " RGB{N0f8}(0.0,0.0,0.0)  RGB{N0f8}(0.0,0.0,0.0)     RGB{N0f8}(0.0,0.0,0.0)\n",
       " RGB{N0f8}(0.0,0.0,0.0)  RGB{N0f8}(0.0,0.0,0.0)     RGB{N0f8}(0.0,0.0,0.0)\n",
       " RGB{N0f8}(0.0,0.0,0.0)  RGB{N0f8}(0.0,0.0,0.0)  …  RGB{N0f8}(0.0,0.0,0.0)\n",
       " RGB{N0f8}(0.0,0.0,0.0)  RGB{N0f8}(0.0,0.0,0.0)     RGB{N0f8}(0.0,0.0,0.0)\n",
       " RGB{N0f8}(0.0,0.0,0.0)  RGB{N0f8}(0.0,0.0,0.0)     RGB{N0f8}(0.0,0.0,0.0)\n",
       " RGB{N0f8}(0.0,0.0,0.0)  RGB{N0f8}(0.0,0.0,0.0)     RGB{N0f8}(0.0,0.0,0.0)\n",
       " RGB{N0f8}(0.0,0.0,0.0)  RGB{N0f8}(0.0,0.0,0.0)     RGB{N0f8}(0.0,0.0,0.0)"
      ]
     },
     "execution_count": 15,
     "metadata": {},
     "output_type": "execute_result"
    }
   ],
   "source": [
    "c = Canvas(10,20)"
   ]
  },
  {
   "cell_type": "code",
   "execution_count": 16,
   "metadata": {},
   "outputs": [
    {
     "data": {
      "image/png": "[encoded data removed]",
      "text/plain": [
       "20×10 Array{RGB{N0f8},2} with eltype RGB{Normed{UInt8,8}}:\n",
       " RGB{N0f8}(0.0,0.0,0.0)  RGB{N0f8}(0.0,0.0,0.0)  …  RGB{N0f8}(0.0,0.0,0.0)\n",
       " RGB{N0f8}(0.0,0.0,0.0)  RGB{N0f8}(0.0,0.0,0.0)     RGB{N0f8}(0.0,0.0,0.0)\n",
       " RGB{N0f8}(0.0,0.0,0.0)  RGB{N0f8}(0.0,0.0,0.0)     RGB{N0f8}(0.0,0.0,0.0)\n",
       " RGB{N0f8}(0.0,0.0,0.0)  RGB{N0f8}(0.0,0.0,0.0)     RGB{N0f8}(0.0,0.0,0.0)\n",
       " RGB{N0f8}(0.0,0.0,0.0)  RGB{N0f8}(0.0,0.0,0.0)     RGB{N0f8}(0.0,0.0,0.0)\n",
       " RGB{N0f8}(0.0,0.0,0.0)  RGB{N0f8}(0.0,0.0,0.0)  …  RGB{N0f8}(0.0,0.0,0.0)\n",
       " RGB{N0f8}(0.0,0.0,0.0)  RGB{N0f8}(0.0,0.0,0.0)     RGB{N0f8}(0.0,0.0,0.0)\n",
       " RGB{N0f8}(0.0,0.0,0.0)  RGB{N0f8}(0.0,0.0,0.0)     RGB{N0f8}(0.0,0.0,0.0)\n",
       " RGB{N0f8}(0.0,0.0,0.0)  RGB{N0f8}(0.0,0.0,0.0)     RGB{N0f8}(0.0,0.0,0.0)\n",
       " RGB{N0f8}(0.0,0.0,0.0)  RGB{N0f8}(0.0,0.0,0.0)     RGB{N0f8}(0.0,0.0,0.0)\n",
       " RGB{N0f8}(0.0,0.0,0.0)  RGB{N0f8}(0.0,0.0,0.0)  …  RGB{N0f8}(0.0,0.0,0.0)\n",
       " RGB{N0f8}(0.0,0.0,0.0)  RGB{N0f8}(0.0,0.0,0.0)     RGB{N0f8}(0.0,0.0,0.0)\n",
       " RGB{N0f8}(0.0,0.0,0.0)  RGB{N0f8}(0.0,0.0,0.0)     RGB{N0f8}(0.0,0.0,0.0)\n",
       " RGB{N0f8}(0.0,0.0,0.0)  RGB{N0f8}(0.0,0.0,0.0)     RGB{N0f8}(0.0,0.0,0.0)\n",
       " RGB{N0f8}(0.0,0.0,0.0)  RGB{N0f8}(0.0,0.0,0.0)     RGB{N0f8}(0.0,0.0,0.0)\n",
       " RGB{N0f8}(0.0,0.0,0.0)  RGB{N0f8}(0.0,0.0,0.0)  …  RGB{N0f8}(0.0,0.0,0.0)\n",
       " RGB{N0f8}(0.0,0.0,0.0)  RGB{N0f8}(0.0,0.0,0.0)     RGB{N0f8}(0.0,0.0,0.0)\n",
       " RGB{N0f8}(0.0,0.0,0.0)  RGB{N0f8}(0.0,0.0,0.0)     RGB{N0f8}(0.0,0.0,0.0)\n",
       " RGB{N0f8}(0.0,0.0,0.0)  RGB{N0f8}(0.0,0.0,0.0)     RGB{N0f8}(0.0,0.0,0.0)\n",
       " RGB{N0f8}(0.0,0.0,0.0)  RGB{N0f8}(0.0,0.0,0.0)     RGB{N0f8}(0.0,0.0,0.0)"
      ]
     },
     "execution_count": 16,
     "metadata": {},
     "output_type": "execute_result"
    }
   ],
   "source": [
    "pixel!(c, 2, 3, colorant\"red\")\n",
    "c"
   ]
  },
  {
   "cell_type": "code",
   "execution_count": null,
   "metadata": {},
   "outputs": [],
   "source": []
  }
 ],
 "metadata": {
  "kernelspec": {
   "display_name": "Julia 1.5.2",
   "language": "julia",
   "name": "julia-1.5"
  },
  "language_info": {
   "file_extension": ".jl",
   "mimetype": "application/julia",
   "name": "julia",
   "version": "1.5.2"
  }
 },
 "nbformat": 4,
 "nbformat_minor": 4
}
